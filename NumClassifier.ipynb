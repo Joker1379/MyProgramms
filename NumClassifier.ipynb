{
  "nbformat": 4,
  "nbformat_minor": 0,
  "metadata": {
    "colab": {
      "name": "NumClassifier.ipynb",
      "provenance": [],
      "collapsed_sections": []
    },
    "kernelspec": {
      "name": "python3",
      "display_name": "Python 3"
    },
    "language_info": {
      "name": "python"
    },
    "accelerator": "GPU"
  },
  "cells": [
    {
      "cell_type": "code",
      "metadata": {
        "id": "IJAGRcvfMEBt"
      },
      "source": [
        "import random as rd, numpy as np, torch\n",
        "\n",
        "rd.seed(0)\n",
        "np.random.seed(0)\n",
        "torch.manual_seed(0)\n",
        "torch.cuda.manual_seed(0)\n",
        "torch.backends.cudnn.determenistic = True"
      ],
      "execution_count": 1,
      "outputs": []
    },
    {
      "cell_type": "markdown",
      "metadata": {
        "id": "CWxqpLbQJmHL"
      },
      "source": [
        "Скачиваем тренировочные и тестовые данные из датасета:"
      ]
    },
    {
      "cell_type": "code",
      "metadata": {
        "colab": {
          "base_uri": "https://localhost:8080/"
        },
        "id": "NmMR42ZlNUlQ",
        "outputId": "96009ec7-7d3f-422f-87f9-20e21cdf767c"
      },
      "source": [
        "import torchvision.datasets\n",
        "\n",
        "MNIST_train = torchvision.datasets.MNIST('/', download=True)\n",
        "MNIST_test = torchvision.datasets.MNIST('/', download=True, train=False)"
      ],
      "execution_count": 2,
      "outputs": [
        {
          "output_type": "stream",
          "name": "stderr",
          "text": [
            "/usr/local/lib/python3.7/dist-packages/torchvision/datasets/mnist.py:498: UserWarning: The given NumPy array is not writeable, and PyTorch does not support non-writeable tensors. This means you can write to the underlying (supposedly non-writeable) NumPy array using the tensor. You may want to copy the array to protect its data or make it writeable before converting it to a tensor. This type of warning will be suppressed for the rest of this program. (Triggered internally at  /pytorch/torch/csrc/utils/tensor_numpy.cpp:180.)\n",
            "  return torch.from_numpy(parsed.astype(m[2], copy=False)).view(*s)\n"
          ]
        }
      ]
    },
    {
      "cell_type": "markdown",
      "metadata": {
        "id": "swSBpX9uJ-A7"
      },
      "source": [
        "Конвертируем **features** в float:"
      ]
    },
    {
      "cell_type": "code",
      "metadata": {
        "colab": {
          "base_uri": "https://localhost:8080/"
        },
        "id": "DtAkf6MNO6y2",
        "outputId": "29cfb398-a75e-4aba-97e9-7d6a0082f46a"
      },
      "source": [
        "x_train = MNIST_train.data\n",
        "y_train = MNIST_train.targets\n",
        "x_test = MNIST_test.data\n",
        "y_test = MNIST_test.targets\n",
        "x_train.dtype, y_train.dtype"
      ],
      "execution_count": 3,
      "outputs": [
        {
          "output_type": "execute_result",
          "data": {
            "text/plain": [
              "(torch.uint8, torch.int64)"
            ]
          },
          "metadata": {},
          "execution_count": 3
        }
      ]
    },
    {
      "cell_type": "code",
      "metadata": {
        "colab": {
          "base_uri": "https://localhost:8080/"
        },
        "id": "AJ16LkHBP640",
        "outputId": "17dc3aee-b390-47ed-8357-49993791e3fc"
      },
      "source": [
        "x_train, x_test = x_train.float(), x_test.float()\n",
        "x_train.shape, y_train.shape, x_test.shape, y_test.shape"
      ],
      "execution_count": 4,
      "outputs": [
        {
          "output_type": "execute_result",
          "data": {
            "text/plain": [
              "(torch.Size([60000, 28, 28]),\n",
              " torch.Size([60000]),\n",
              " torch.Size([10000, 28, 28]),\n",
              " torch.Size([10000]))"
            ]
          },
          "metadata": {},
          "execution_count": 4
        }
      ]
    },
    {
      "cell_type": "markdown",
      "metadata": {
        "id": "6N-yARGYKMrk"
      },
      "source": [
        "Пример изображения из датасета:"
      ]
    },
    {
      "cell_type": "code",
      "metadata": {
        "colab": {
          "base_uri": "https://localhost:8080/",
          "height": 282
        },
        "id": "WmO7vT9iRL_K",
        "outputId": "ceab32dd-6566-4b3e-e469-791af3cfaa4f"
      },
      "source": [
        "import matplotlib.pyplot as plt\n",
        "\n",
        "plt.imshow(x_train[0], cmap='binary')\n",
        "y_train[0]"
      ],
      "execution_count": 5,
      "outputs": [
        {
          "output_type": "execute_result",
          "data": {
            "text/plain": [
              "tensor(5)"
            ]
          },
          "metadata": {},
          "execution_count": 5
        },
        {
          "output_type": "display_data",
          "data": {
            "image/png": "[encoded data removed]",
            "text/plain": [
              "<Figure size 432x288 with 1 Axes>"
            ]
          },
          "metadata": {
            "needs_background": "light"
          }
        }
      ]
    },
    {
      "cell_type": "markdown",
      "metadata": {
        "id": "fJbXaioIKpIc"
      },
      "source": [
        "Преобразуем размерность **features** так, чтобы каждому объекту соответствовал одномерный массив:"
      ]
    },
    {
      "cell_type": "code",
      "metadata": {
        "colab": {
          "base_uri": "https://localhost:8080/"
        },
        "id": "XFH2DaNzTDVw",
        "outputId": "aa273590-1c7d-4ce7-837a-b08f199f5315"
      },
      "source": [
        "x_train, x_test = x_train.reshape(-1, 28*28), x_test.reshape(-1, 28*28)\n",
        "x_train.shape, x_test.shape"
      ],
      "execution_count": 6,
      "outputs": [
        {
          "output_type": "execute_result",
          "data": {
            "text/plain": [
              "(torch.Size([60000, 784]), torch.Size([10000, 784]))"
            ]
          },
          "metadata": {},
          "execution_count": 6
        }
      ]
    },
    {
      "cell_type": "markdown",
      "metadata": {
        "id": "f847pEYmLBrh"
      },
      "source": [
        "Определяем класс нейронной сети:"
      ]
    },
    {
      "cell_type": "code",
      "metadata": {
        "id": "8L4qnMYoV4K1"
      },
      "source": [
        "class NumNet(torch.nn.Module):\n",
        "  def __init__(self, n_neurons):\n",
        "    super().__init__()\n",
        "    self.fc1 = torch.nn.Linear(28*28, n_neurons)\n",
        "    self.act1 = torch.nn.Sigmoid()\n",
        "    self.fc2 = torch.nn.Linear(n_neurons, 10)\n",
        "  def forward(self, x):\n",
        "    x = self.act1(self.fc1(x))\n",
        "    return self.fc2(x)"
      ],
      "execution_count": 7,
      "outputs": []
    },
    {
      "cell_type": "markdown",
      "metadata": {
        "id": "leC0wIbpLJmZ"
      },
      "source": [
        "Инициализируем нейронную сеть, функцию потерь и метод оптимизации:"
      ]
    },
    {
      "cell_type": "code",
      "metadata": {
        "id": "5SYwxiL0XZJb"
      },
      "source": [
        "net = NumNet(100)\n",
        "loss = torch.nn.CrossEntropyLoss()\n",
        "optimizer = torch.optim.Adam(net.parameters(), lr=0.0001)"
      ],
      "execution_count": 8,
      "outputs": []
    },
    {
      "cell_type": "markdown",
      "metadata": {
        "id": "gpcUkz0YLx7k"
      },
      "source": [
        "Проверяем статус GPU и переносим инициализированный класс сети (тензоры параметров) и тестовые тензоры на видеопамять если CUDA доступна. Тренировочные данные будем переносить в видеопамять по частям (**batch**) в процессе обучения, так как в общем случае весь датасет может не поместиться на видеокарту."
      ]
    },
    {
      "cell_type": "code",
      "metadata": {
        "colab": {
          "base_uri": "https://localhost:8080/"
        },
        "id": "--ix_PTGkLQo",
        "outputId": "06309cd6-0f44-42d8-a535-21ab9bfcc563"
      },
      "source": [
        "!nvidia-smi"
      ],
      "execution_count": 9,
      "outputs": [
        {
          "output_type": "stream",
          "name": "stdout",
          "text": [
            "Sun Sep 26 08:24:15 2021       \n",
            "+-----------------------------------------------------------------------------+\n",
            "| NVIDIA-SMI 470.63.01    Driver Version: 460.32.03    CUDA Version: 11.2     |\n",
            "|-------------------------------+----------------------+----------------------+\n",
            "| GPU  Name        Persistence-M| Bus-Id        Disp.A | Volatile Uncorr. ECC |\n",
            "| Fan  Temp  Perf  Pwr:Usage/Cap|         Memory-Usage | GPU-Util  Compute M. |\n",
            "|                               |                      |               MIG M. |\n",
            "|===============================+======================+======================|\n",
            "|   0  Tesla K80           Off  | 00000000:00:04.0 Off |                    0 |\n",
            "| N/A   34C    P8    28W / 149W |      0MiB / 11441MiB |      0%      Default |\n",
            "|                               |                      |                  N/A |\n",
            "+-------------------------------+----------------------+----------------------+\n",
            "                                                                               \n",
            "+-----------------------------------------------------------------------------+\n",
            "| Processes:                                                                  |\n",
            "|  GPU   GI   CI        PID   Type   Process name                  GPU Memory |\n",
            "|        ID   ID                                                   Usage      |\n",
            "|=============================================================================|\n",
            "|  No running processes found                                                 |\n",
            "+-----------------------------------------------------------------------------+\n"
          ]
        }
      ]
    },
    {
      "cell_type": "code",
      "metadata": {
        "id": "xytvWmSGkKaS"
      },
      "source": [
        "device = torch.device('cuda:0' if torch.cuda.is_available() else 'cpu')\n",
        "net = net.to(device) # net.to('cuda:0'), net.cuda() - alternatives\n",
        "x_test, y_test = x_test.to(device), y_test.to(device)"
      ],
      "execution_count": 10,
      "outputs": []
    },
    {
      "cell_type": "markdown",
      "metadata": {
        "id": "zd2zZThgNggX"
      },
      "source": [
        "Обучаем нейросеть, сохраняя промежуточне значения точности и функции потерь для каждой эпохи на тренировочных и тестовых данных. Для тренировочных данных вычисляются средние значения по частям (**batch**)."
      ]
    },
    {
      "cell_type": "code",
      "metadata": {
        "id": "vllLJ210X1Ni"
      },
      "source": [
        "batch_size, train_len = 1000, len(x_train)\n",
        "train_accuracy, train_loss = [], []\n",
        "test_accuracy, test_loss = [], []\n",
        "\n",
        "for epoch in range(30):\n",
        "  order = np.random.permutation(train_len)\n",
        "  batch_accuracy, batch_loss = 0, 0\n",
        "  for i in range(0, train_len, batch_size):\n",
        "    optimizer.zero_grad()\n",
        "    ind = order[i:i+batch_size]\n",
        "    x_batch = x_train[ind].to(device)\n",
        "    y_batch = y_train[ind].to(device)\n",
        "    raw_out = net.forward(x_batch)\n",
        "    loss_val = loss(raw_out, y_batch)\n",
        "    loss_val.backward()\n",
        "    optimizer.step()\n",
        "\n",
        "    batch_accuracy += (raw_out.argmax(dim=1)==y_batch).float().mean()\n",
        "    batch_loss += loss_val\n",
        "\n",
        "  train_accuracy.append(batch_accuracy/(train_len/batch_size))\n",
        "  train_loss.append(batch_loss/(train_len/batch_size))\n",
        "  raw_out = net.forward(x_test)\n",
        "  test_accuracy.append((raw_out.argmax(dim=1)==y_test).float().mean())\n",
        "  test_loss.append(loss(raw_out, y_test))"
      ],
      "execution_count": 12,
      "outputs": []
    },
    {
      "cell_type": "markdown",
      "metadata": {
        "id": "pjwuozFYQ1qs"
      },
      "source": [
        "Сравниваем изменение точности и функции потерь для тренировочных и тестовых данных:"
      ]
    },
    {
      "cell_type": "code",
      "metadata": {
        "colab": {
          "base_uri": "https://localhost:8080/",
          "height": 265
        },
        "id": "k9-Y6vmHYRXK",
        "outputId": "e42f2227-ab33-4cfe-a48f-fd2a1a174662"
      },
      "source": [
        "plt.plot(train_accuracy, label='Train Accuracy')\n",
        "plt.plot(test_accuracy, label='Test Accuracy')\n",
        "plt.legend();"
      ],
      "execution_count": 13,
      "outputs": [
        {
          "output_type": "display_data",
          "data": {
            "image/png": "[encoded data removed]",
            "text/plain": [
              "<Figure size 432x288 with 1 Axes>"
            ]
          },
          "metadata": {
            "needs_background": "light"
          }
        }
      ]
    },
    {
      "cell_type": "code",
      "metadata": {
        "colab": {
          "base_uri": "https://localhost:8080/",
          "height": 266
        },
        "id": "JVPTTeOzp9xv",
        "outputId": "b7a2c37f-2763-4a71-9f32-9acc3afd4c35"
      },
      "source": [
        "plt.plot(train_loss, label='Train Loss')\n",
        "plt.plot(test_loss, label='Test Loss')\n",
        "plt.legend();"
      ],
      "execution_count": 14,
      "outputs": [
        {
          "output_type": "display_data",
          "data": {
            "image/png": "[encoded data removed]",
            "text/plain": [
              "<Figure size 432x288 with 1 Axes>"
            ]
          },
          "metadata": {
            "needs_background": "light"
          }
        }
      ]
    },
    {
      "cell_type": "code",
      "metadata": {
        "id": "jjiqm_kiTQcJ"
      },
      "source": [
        ""
      ],
      "execution_count": null,
      "outputs": []
    }
  ]
}